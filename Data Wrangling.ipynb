{
 "cells": [
  {
   "cell_type": "markdown",
   "metadata": {},
   "source": [
    "# Abstract\n",
    "\n",
    "The purpose of this *Notebook* is to read the *OpenStreetMap* XML file, investigate its data, classify street types, map street names to an accepted standard format, and generate a JSON file with the data to be imported in MongoDB later."
   ]
  },
  {
   "cell_type": "code",
   "execution_count": 1,
   "metadata": {
    "collapsed": true
   },
   "outputs": [],
   "source": [
    "%load_ext autoreload\n",
    "%autoreload 2"
   ]
  },
  {
   "cell_type": "code",
   "execution_count": 2,
   "metadata": {},
   "outputs": [],
   "source": [
    "from IPython.display import display\n",
    "from pprint import pprint\n",
    "\n",
    "import codecs\n",
    "import json\n",
    "\n",
    "from xmlreader import XmlReader\n",
    "from audit import KeyAuditor, StreetAuditor\n",
    "from mapdocument import MapDocument\n",
    "\n",
    "SAMPLE_SKIP = 50\n",
    "DATA_FILE = 'data/buenos-aires_argentina.osm'\n",
    "DATA_SAMPLE_FILE = 'data/buenos-aires_argentina_sample_%d.osm' % SAMPLE_SKIP"
   ]
  },
  {
   "cell_type": "code",
   "execution_count": 3,
   "metadata": {
    "collapsed": true,
    "scrolled": true
   },
   "outputs": [],
   "source": [
    "# read main xml file (400+ mb)\n",
    "data = XmlReader(DATA_FILE)"
   ]
  },
  {
   "cell_type": "code",
   "execution_count": 7,
   "metadata": {},
   "outputs": [
    {
     "data": {
      "text/plain": [
       "defaultdict(int,\n",
       "            {'bounds': 1,\n",
       "             'member': 202263,\n",
       "             'nd': 2006656,\n",
       "             'node': 1553782,\n",
       "             'osm': 1,\n",
       "             'relation': 9559,\n",
       "             'tag': 1736827,\n",
       "             'way': 338006})"
      ]
     },
     "metadata": {},
     "output_type": "display_data"
    }
   ],
   "source": [
    "# count tags in main file\n",
    "display(data.count_tags())"
   ]
  },
  {
   "cell_type": "code",
   "execution_count": 5,
   "metadata": {
    "collapsed": true,
    "scrolled": true
   },
   "outputs": [],
   "source": [
    "# read sample xml file\n",
    "datasample = XmlReader(DATA_SAMPLE_FILE)"
   ]
  },
  {
   "cell_type": "code",
   "execution_count": 6,
   "metadata": {},
   "outputs": [
    {
     "data": {
      "text/plain": [
       "{'member': 4104,\n",
       " 'nd': 39116,\n",
       " 'node': 31076,\n",
       " 'osm': 1,\n",
       " 'relation': 191,\n",
       " 'tag': 34482,\n",
       " 'way': 6760}"
      ]
     },
     "metadata": {},
     "output_type": "display_data"
    }
   ],
   "source": [
    "# count tags in sample file\n",
    "display(dict(datasample.count_tags()))"
   ]
  },
  {
   "cell_type": "code",
   "execution_count": 8,
   "metadata": {},
   "outputs": [
    {
     "data": {
      "text/plain": [
       "{'alphanum_colon': 15572, 'double_colon': 41, 'lower': 18867, 'other': 2}"
      ]
     },
     "metadata": {},
     "output_type": "display_data"
    }
   ],
   "source": [
    "# sample file: audit keys contained in tag attributes\n",
    "key_auditor = KeyAuditor(datasample)\n",
    "display(dict(key_auditor.test(filter_tags=('tag'))))"
   ]
  },
  {
   "cell_type": "code",
   "execution_count": 9,
   "metadata": {
    "scrolled": false
   },
   "outputs": [
    {
     "data": {
      "text/plain": [
       "601"
      ]
     },
     "execution_count": 9,
     "metadata": {},
     "output_type": "execute_result"
    }
   ],
   "source": [
    "# sample file: unique users found in file\n",
    "len(datasample.unique_users())"
   ]
  },
  {
   "cell_type": "code",
   "execution_count": 10,
   "metadata": {
    "collapsed": true,
    "scrolled": false
   },
   "outputs": [],
   "source": [
    "# main file: audit street types\n",
    "# unknown=True includes also streets requiring better classification rules\n",
    "# Calle is also included for research purposes\n",
    "street_auditor = StreetAuditor(data)\n",
    "street_types = street_auditor.audit_types(unknown=False)"
   ]
  },
  {
   "cell_type": "code",
   "execution_count": 11,
   "metadata": {},
   "outputs": [
    {
     "data": {
      "text/plain": [
       "dict_keys(['Calle', 'Cno', 'Ave', 'Av', 'Línea', 'Pje', 'Bv'])"
      ]
     },
     "metadata": {},
     "output_type": "display_data"
    }
   ],
   "source": [
    "# main file: show non standard street types\n",
    "display(street_types['types'].keys())"
   ]
  },
  {
   "cell_type": "code",
   "execution_count": null,
   "metadata": {
    "scrolled": true
   },
   "outputs": [],
   "source": [
    "# create a list of dictionaries, using document structure gotten from MongoDB course's Problem Set\n",
    "elements = list(data.iterate())\n",
    "docs = []\n",
    "for e in elements:\n",
    "    doc = MapDocument(element=e, street_auditor=street_auditor)\n",
    "    docs.append(doc)"
   ]
  },
  {
   "cell_type": "code",
   "execution_count": null,
   "metadata": {},
   "outputs": [],
   "source": [
    "# write list of docs into a JSON file\n",
    "with open('data/buenos-aires_argentina.json', 'wb') as f:\n",
    "    for doc in docs:\n",
    "        f.write(json.dumps(doc.todict()).encode())"
   ]
  }
 ],
 "metadata": {
  "kernelspec": {
   "display_name": "Python 3",
   "language": "python",
   "name": "python3"
  },
  "language_info": {
   "codemirror_mode": {
    "name": "ipython",
    "version": 3
   },
   "file_extension": ".py",
   "mimetype": "text/x-python",
   "name": "python",
   "nbconvert_exporter": "python",
   "pygments_lexer": "ipython3",
   "version": "3.6.1"
  }
 },
 "nbformat": 4,
 "nbformat_minor": 2
}
